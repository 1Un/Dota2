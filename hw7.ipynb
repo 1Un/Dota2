{
  "nbformat": 4,
  "nbformat_minor": 0,
  "metadata": {
    "colab": {
      "name": "hw7.ipynb",
      "provenance": [],
      "collapsed_sections": [
        "kCT4Vh4fFSWa",
        "p8d-d-Bt9WM_",
        "VTo9myuzpsKv",
        "pO2YNRe1eIZP"
      ],
      "toc_visible": true,
      "include_colab_link": true
    },
    "kernelspec": {
      "name": "python3",
      "display_name": "Python 3"
    },
    "language_info": {
      "name": "python"
    }
  },
  "cells": [
    {
      "cell_type": "markdown",
      "metadata": {
        "id": "view-in-github",
        "colab_type": "text"
      },
      "source": [
        "<a href=\"https://colab.research.google.com/github/1Un/Dota2/blob/main/hw7.ipynb\" target=\"_parent\"><img src=\"https://colab.research.google.com/assets/colab-badge.svg\" alt=\"Open In Colab\"/></a>"
      ]
    },
    {
      "cell_type": "code",
      "metadata": {
        "id": "hDo8RAEPnwA-",
        "colab": {
          "base_uri": "https://localhost:8080/"
        },
        "outputId": "03b6950e-e26c-4ff3-d56d-94d5e9107296"
      },
      "source": [
        "from google.colab import drive\n",
        "drive.mount('/content/gdrive')\n",
        "!unzip '/content/gdrive/MyDrive/Colab Notebooks/Coursera/hw7/data.zip' -d '/content/'\n",
        "!unzip '/content/gdrive/MyDrive/Colab Notebooks/Coursera/hw7/features.zip' -d '/content/features'\n",
        "!unzip '/content/gdrive/MyDrive/Colab Notebooks/Coursera/hw7/features_test.zip' -d '/content/features_test'"
      ],
      "execution_count": 1,
      "outputs": [
        {
          "output_type": "stream",
          "text": [
            "Mounted at /content/gdrive\n",
            "Archive:  /content/gdrive/MyDrive/Colab Notebooks/Coursera/hw7/data.zip\n",
            "   creating: /content/data/\n",
            "   creating: /content/data/dictionaries/\n",
            "  inflating: /content/data/dictionaries/abilities.csv  \n",
            "  inflating: /content/data/dictionaries/heroes.csv  \n",
            "  inflating: /content/data/dictionaries/items.csv  \n",
            "  inflating: /content/data/dictionaries/lobbies.csv  \n",
            "  inflating: /content/data/dictionaries/mods.csv  \n",
            "  inflating: /content/data/dictionaries/regions.csv  \n",
            "  inflating: /content/data/extract_features.py  \n",
            "  inflating: /content/data/features.csv  \n",
            "  inflating: /content/data/features_test.csv  \n",
            "  inflating: /content/data/matches.jsonlines.bz2  \n",
            " extracting: /content/data/matches_test.jsonlines.bz2  \n",
            "  inflating: /content/data/sample_submission.csv  \n",
            "Archive:  /content/gdrive/MyDrive/Colab Notebooks/Coursera/hw7/features.zip\n",
            "  inflating: /content/features/features.csv  \n",
            "Archive:  /content/gdrive/MyDrive/Colab Notebooks/Coursera/hw7/features_test.zip\n",
            "  inflating: /content/features_test/features_test.csv  \n"
          ],
          "name": "stdout"
        }
      ]
    },
    {
      "cell_type": "code",
      "metadata": {
        "id": "c-hyqOCioDsX"
      },
      "source": [
        "import pandas as pd\n",
        "import numpy as np"
      ],
      "execution_count": 2,
      "outputs": []
    },
    {
      "cell_type": "markdown",
      "metadata": {
        "id": "BfrdqOKa7qGk"
      },
      "source": [
        "# Подход 1"
      ]
    },
    {
      "cell_type": "markdown",
      "metadata": {
        "id": "SsPKH0yumJ72"
      },
      "source": [
        "\n",
        "## №1 \n",
        "Считайте таблицу с признаками из файла features.csv с помощью кода, приведенного выше. Удалите признаки, связанные с итогами матча (они помечены в \n",
        "описании данных как отсутствующие в тестовой выборке)."
      ]
    },
    {
      "cell_type": "code",
      "metadata": {
        "id": "jbanqKcnmCeW"
      },
      "source": [
        "features_train = pd.read_csv('/content/features/features.csv', index_col='match_id')\n",
        "features_test=pd.read_csv('/content/features_test/features_test.csv',index_col='match_id')\n"
      ],
      "execution_count": 3,
      "outputs": []
    },
    {
      "cell_type": "code",
      "metadata": {
        "id": "aIWqBuXgoL_6"
      },
      "source": [
        "features_train=features_train.drop(['barracks_status_dire',\n",
        "                                    'barracks_status_radiant',\n",
        "                                    'duration',\n",
        "                                    'radiant_win',\n",
        "                                    'tower_status_dire',\n",
        "                                    'tower_status_radiant'],\n",
        "                                    axis=1)"
      ],
      "execution_count": 4,
      "outputs": []
    },
    {
      "cell_type": "markdown",
      "metadata": {
        "id": "pwWmoXUip8PA"
      },
      "source": [
        "## №2\n",
        "Проверьте выборку на наличие пропусков с помощью функции count(), которая для каждого столбца показывает число заполненных значений. Много ли пропусков в данных? Запишите названия признаков, имеющих пропуски, и попробуйте для любых двух из них дать обоснование, почему их значения могут быть пропущены."
      ]
    },
    {
      "cell_type": "code",
      "metadata": {
        "colab": {
          "base_uri": "https://localhost:8080/"
        },
        "id": "jTtkIhGvp_9q",
        "outputId": "f3f4248f-21a9-4ef4-b601-ef9bf0e37d2f"
      },
      "source": [
        "s=(features_train.shape[0]-features_train.count())\n",
        "s.loc[s>0]\n"
      ],
      "execution_count": 5,
      "outputs": [
        {
          "output_type": "execute_result",
          "data": {
            "text/plain": [
              "first_blood_time               19553\n",
              "first_blood_team               19553\n",
              "first_blood_player1            19553\n",
              "first_blood_player2            43987\n",
              "radiant_bottle_time            15691\n",
              "radiant_courier_time             692\n",
              "radiant_flying_courier_time    27479\n",
              "radiant_first_ward_time         1836\n",
              "dire_bottle_time               16143\n",
              "dire_courier_time                676\n",
              "dire_flying_courier_time       26098\n",
              "dire_first_ward_time            1826\n",
              "dtype: int64"
            ]
          },
          "metadata": {
            "tags": []
          },
          "execution_count": 5
        }
      ]
    },
    {
      "cell_type": "code",
      "metadata": {
        "colab": {
          "base_uri": "https://localhost:8080/"
        },
        "id": "bYurCtc6rKd_",
        "outputId": "9e809f4f-2786-470d-83ad-2dd7a0ff14f8"
      },
      "source": [
        "s=(features_test.shape[0]-features_test.count())\n",
        "s.loc[s>0]\n"
      ],
      "execution_count": 6,
      "outputs": [
        {
          "output_type": "execute_result",
          "data": {
            "text/plain": [
              "first_blood_time               3552\n",
              "first_blood_team               3552\n",
              "first_blood_player1            3552\n",
              "first_blood_player2            7766\n",
              "radiant_bottle_time            2895\n",
              "radiant_courier_time            127\n",
              "radiant_flying_courier_time    4885\n",
              "radiant_first_ward_time         330\n",
              "dire_bottle_time               2842\n",
              "dire_courier_time               130\n",
              "dire_flying_courier_time       4524\n",
              "dire_first_ward_time            263\n",
              "dtype: int64"
            ]
          },
          "metadata": {
            "tags": []
          },
          "execution_count": 6
        }
      ]
    },
    {
      "cell_type": "markdown",
      "metadata": {
        "id": "INTMcndYta-i"
      },
      "source": [
        "first_blood_team: команда, совершившая первую кровь (0 — Radiant, 1 — Dire)\n",
        "В данном столбце пропущенные значние могут показывать "
      ]
    },
    {
      "cell_type": "code",
      "metadata": {
        "id": "9sDiiov_t00e",
        "colab": {
          "base_uri": "https://localhost:8080/",
          "height": 235
        },
        "outputId": "78566ed6-d9f8-4905-dc9b-2b7eddfbe67c"
      },
      "source": [
        "features_train.loc[features_train.first_blood_team.isna()==True,['first_blood_team','r1_kills','r2_kills']].head()\n",
        "# Если посмотреть на данные,то мы увидим что r1_kills=0 и r1_kills=0 т.е. в игре не было смертей =>\n",
        "# не было первого убийства, т.е. там и стоит nan, хотя можно наверное было ввести напр. -1(т.е.\n",
        "# это обозначала что first blodd отсутсвует). В остальных столбцах тоже видна такая закономерность что,\n",
        "# если в игре что тоне случилось, напр.что nun в столбце dire_bottle_time означает что, во время игры не был приобретён botl, \n"
      ],
      "execution_count": 7,
      "outputs": [
        {
          "output_type": "execute_result",
          "data": {
            "text/html": [
              "<div>\n",
              "<style scoped>\n",
              "    .dataframe tbody tr th:only-of-type {\n",
              "        vertical-align: middle;\n",
              "    }\n",
              "\n",
              "    .dataframe tbody tr th {\n",
              "        vertical-align: top;\n",
              "    }\n",
              "\n",
              "    .dataframe thead th {\n",
              "        text-align: right;\n",
              "    }\n",
              "</style>\n",
              "<table border=\"1\" class=\"dataframe\">\n",
              "  <thead>\n",
              "    <tr style=\"text-align: right;\">\n",
              "      <th></th>\n",
              "      <th>first_blood_team</th>\n",
              "      <th>r1_kills</th>\n",
              "      <th>r2_kills</th>\n",
              "    </tr>\n",
              "    <tr>\n",
              "      <th>match_id</th>\n",
              "      <th></th>\n",
              "      <th></th>\n",
              "      <th></th>\n",
              "    </tr>\n",
              "  </thead>\n",
              "  <tbody>\n",
              "    <tr>\n",
              "      <th>3</th>\n",
              "      <td>NaN</td>\n",
              "      <td>0</td>\n",
              "      <td>0</td>\n",
              "    </tr>\n",
              "    <tr>\n",
              "      <th>9</th>\n",
              "      <td>NaN</td>\n",
              "      <td>0</td>\n",
              "      <td>0</td>\n",
              "    </tr>\n",
              "    <tr>\n",
              "      <th>45</th>\n",
              "      <td>NaN</td>\n",
              "      <td>0</td>\n",
              "      <td>0</td>\n",
              "    </tr>\n",
              "    <tr>\n",
              "      <th>51</th>\n",
              "      <td>NaN</td>\n",
              "      <td>0</td>\n",
              "      <td>0</td>\n",
              "    </tr>\n",
              "    <tr>\n",
              "      <th>86</th>\n",
              "      <td>NaN</td>\n",
              "      <td>0</td>\n",
              "      <td>0</td>\n",
              "    </tr>\n",
              "  </tbody>\n",
              "</table>\n",
              "</div>"
            ],
            "text/plain": [
              "          first_blood_team  r1_kills  r2_kills\n",
              "match_id                                      \n",
              "3                      NaN         0         0\n",
              "9                      NaN         0         0\n",
              "45                     NaN         0         0\n",
              "51                     NaN         0         0\n",
              "86                     NaN         0         0"
            ]
          },
          "metadata": {
            "tags": []
          },
          "execution_count": 7
        }
      ]
    },
    {
      "cell_type": "markdown",
      "metadata": {
        "id": "EL7UZbiLwcPu"
      },
      "source": [
        "## №3\n",
        "Замените пропуски на нули с помощью функции fillna(). На самом деле этот способ является предпочтительным для логистической регрессии, поскольку он позволит пропущенному значению не вносить никакого вклада в предсказание. Для деревьев часто лучшим вариантом оказывается замена пропуска на очень большое или очень маленькое значение — в этом случае при построении разбиения вершины можно будет отправить объекты с пропусками в отдельную ветвь дерева. Также есть и другие подходы — например, замена пропуска на среднее значение признака. Мы не требуем этого в задании, но при желании попробуйте разные подходы к обработке пропусков и сравните их между собой."
      ]
    },
    {
      "cell_type": "code",
      "metadata": {
        "id": "zaBxKmVYuLgv"
      },
      "source": [
        "features_train=features_train.fillna(value=0)\n",
        "features_test=features_test.fillna(value=0)"
      ],
      "execution_count": 8,
      "outputs": []
    },
    {
      "cell_type": "markdown",
      "metadata": {
        "id": "bA1t-u1iCkPa"
      },
      "source": [
        "## №4\n",
        "Какой столбец содержит целевую переменную? Запишите его название."
      ]
    },
    {
      "cell_type": "code",
      "metadata": {
        "colab": {
          "base_uri": "https://localhost:8080/",
          "height": 235
        },
        "id": "74MJMxz_E3Ko",
        "outputId": "b555fa10-8cfc-4ecb-9661-a0ad538a843c"
      },
      "source": [
        "#radiant_win\n",
        "y=pd.read_csv('/content/features/features.csv', index_col='match_id')[['radiant_win']]\n",
        "y.head()"
      ],
      "execution_count": 9,
      "outputs": [
        {
          "output_type": "execute_result",
          "data": {
            "text/html": [
              "<div>\n",
              "<style scoped>\n",
              "    .dataframe tbody tr th:only-of-type {\n",
              "        vertical-align: middle;\n",
              "    }\n",
              "\n",
              "    .dataframe tbody tr th {\n",
              "        vertical-align: top;\n",
              "    }\n",
              "\n",
              "    .dataframe thead th {\n",
              "        text-align: right;\n",
              "    }\n",
              "</style>\n",
              "<table border=\"1\" class=\"dataframe\">\n",
              "  <thead>\n",
              "    <tr style=\"text-align: right;\">\n",
              "      <th></th>\n",
              "      <th>radiant_win</th>\n",
              "    </tr>\n",
              "    <tr>\n",
              "      <th>match_id</th>\n",
              "      <th></th>\n",
              "    </tr>\n",
              "  </thead>\n",
              "  <tbody>\n",
              "    <tr>\n",
              "      <th>0</th>\n",
              "      <td>1</td>\n",
              "    </tr>\n",
              "    <tr>\n",
              "      <th>1</th>\n",
              "      <td>1</td>\n",
              "    </tr>\n",
              "    <tr>\n",
              "      <th>2</th>\n",
              "      <td>0</td>\n",
              "    </tr>\n",
              "    <tr>\n",
              "      <th>3</th>\n",
              "      <td>0</td>\n",
              "    </tr>\n",
              "    <tr>\n",
              "      <th>4</th>\n",
              "      <td>0</td>\n",
              "    </tr>\n",
              "  </tbody>\n",
              "</table>\n",
              "</div>"
            ],
            "text/plain": [
              "          radiant_win\n",
              "match_id             \n",
              "0                   1\n",
              "1                   1\n",
              "2                   0\n",
              "3                   0\n",
              "4                   0"
            ]
          },
          "metadata": {
            "tags": []
          },
          "execution_count": 9
        }
      ]
    },
    {
      "cell_type": "markdown",
      "metadata": {
        "id": "kCT4Vh4fFSWa"
      },
      "source": [
        "## №5\n",
        "\n",
        "Забудем, что в выборке есть категориальные признаки, и попробуем обучить градиентный бустинг над деревьями на имеющейся матрице \"объекты-признаки\". Зафиксируйте генератор разбиений для кросс-валидации по 5 блокам (KFold), не забудьте перемешать при этом выборку (shuffle=True), поскольку данные в таблице отсортированы по времени, и без перемешивания можно столкнуться с нежелательными эффектами при оценивании качества. Оцените качество градиентного бустинга (GradientBoostingClassifier) с помощью данной кросс-валидации, попробуйте при этом разное количество деревьев (как минимум протестируйте следующие значения для количества деревьев: 10, 20, 30). Долго ли настраивались классификаторы? Достигнут ли оптимум на испытанных значениях параметра n_estimators, или же качество, скорее всего, продолжит расти при дальнейшем его увеличении?"
      ]
    },
    {
      "cell_type": "code",
      "metadata": {
        "id": "DwetQJsfE4xy"
      },
      "source": [
        "from sklearn.ensemble import GradientBoostingClassifier\n",
        "from sklearn.model_selection import KFold\n",
        "from sklearn.model_selection import GridSearchCV\n"
      ],
      "execution_count": 10,
      "outputs": []
    },
    {
      "cell_type": "code",
      "metadata": {
        "id": "GpItGueLLsgK"
      },
      "source": [
        "clf=GradientBoostingClassifier()\n",
        "kf=KFold(n_splits=5,shuffle=True,random_state=42)\n",
        "params={'n_estimators':[10,20,30],\n",
        "        'learning_rate':[1],\n",
        "        'random_state':[42]}"
      ],
      "execution_count": 11,
      "outputs": []
    },
    {
      "cell_type": "code",
      "metadata": {
        "id": "Gwwj4R41MAsf"
      },
      "source": [
        "gs=GridSearchCV(estimator=clf,param_grid=params,cv=kf,verbose=True,n_jobs=-1,scoring='roc_auc')"
      ],
      "execution_count": 12,
      "outputs": []
    },
    {
      "cell_type": "code",
      "metadata": {
        "colab": {
          "base_uri": "https://localhost:8080/"
        },
        "id": "Wg2pSQa3Mj_9",
        "outputId": "fcf1bb5a-b6a9-48e4-c662-3dd6ac3ff022"
      },
      "source": [
        "import time\n",
        "import datetime\n",
        " \n",
        "start_time = datetime.datetime.now()\n",
        " \n",
        "gs.fit(features_train,y.radiant_win)\n",
        " \n",
        "print(f'Time elapsed:{datetime.datetime.now() - start_time}')\n",
        "\n"
      ],
      "execution_count": 13,
      "outputs": [
        {
          "output_type": "stream",
          "text": [
            "Fitting 5 folds for each of 3 candidates, totalling 15 fits\n"
          ],
          "name": "stdout"
        },
        {
          "output_type": "stream",
          "text": [
            "[Parallel(n_jobs=-1)]: Using backend LokyBackend with 2 concurrent workers.\n",
            "[Parallel(n_jobs=-1)]: Done  15 out of  15 | elapsed:  4.1min finished\n"
          ],
          "name": "stderr"
        },
        {
          "output_type": "stream",
          "text": [
            "Time elapsed:0:04:46.422804\n"
          ],
          "name": "stdout"
        }
      ]
    },
    {
      "cell_type": "code",
      "metadata": {
        "id": "JO7V6-UpNDu_",
        "colab": {
          "base_uri": "https://localhost:8080/"
        },
        "outputId": "0b5d36ab-0123-4b0a-a613-6929bd1e604b"
      },
      "source": [
        "gs.best_params_"
      ],
      "execution_count": 14,
      "outputs": [
        {
          "output_type": "execute_result",
          "data": {
            "text/plain": [
              "{'learning_rate': 1, 'n_estimators': 30, 'random_state': 42}"
            ]
          },
          "metadata": {
            "tags": []
          },
          "execution_count": 14
        }
      ]
    },
    {
      "cell_type": "code",
      "metadata": {
        "id": "7UHb4CzEBTgq",
        "colab": {
          "base_uri": "https://localhost:8080/"
        },
        "outputId": "04655fd6-8847-4157-801e-b691ae99500e"
      },
      "source": [
        "gs.best_score_ "
      ],
      "execution_count": 15,
      "outputs": [
        {
          "output_type": "execute_result",
          "data": {
            "text/plain": [
              "0.696238940721182"
            ]
          },
          "metadata": {
            "tags": []
          },
          "execution_count": 15
        }
      ]
    },
    {
      "cell_type": "code",
      "metadata": {
        "id": "DmIjGLIfBw6D",
        "colab": {
          "base_uri": "https://localhost:8080/"
        },
        "outputId": "fd60f60c-8bab-4d38-d317-472aa1250aa6"
      },
      "source": [
        "gs.cv_results_"
      ],
      "execution_count": 16,
      "outputs": [
        {
          "output_type": "execute_result",
          "data": {
            "text/plain": [
              "{'mean_fit_time': array([15.74466147, 31.7975419 , 45.41812496]),\n",
              " 'mean_score_time': array([0.04959512, 0.05223961, 0.05666389]),\n",
              " 'mean_test_score': array([0.68394606, 0.69324505, 0.69623894]),\n",
              " 'param_learning_rate': masked_array(data=[1, 1, 1],\n",
              "              mask=[False, False, False],\n",
              "        fill_value='?',\n",
              "             dtype=object),\n",
              " 'param_n_estimators': masked_array(data=[10, 20, 30],\n",
              "              mask=[False, False, False],\n",
              "        fill_value='?',\n",
              "             dtype=object),\n",
              " 'param_random_state': masked_array(data=[42, 42, 42],\n",
              "              mask=[False, False, False],\n",
              "        fill_value='?',\n",
              "             dtype=object),\n",
              " 'params': [{'learning_rate': 1, 'n_estimators': 10, 'random_state': 42},\n",
              "  {'learning_rate': 1, 'n_estimators': 20, 'random_state': 42},\n",
              "  {'learning_rate': 1, 'n_estimators': 30, 'random_state': 42}],\n",
              " 'rank_test_score': array([3, 2, 1], dtype=int32),\n",
              " 'split0_test_score': array([0.68250838, 0.69009126, 0.69427617]),\n",
              " 'split1_test_score': array([0.68447869, 0.69417409, 0.69748777]),\n",
              " 'split2_test_score': array([0.67703913, 0.68949205, 0.69371861]),\n",
              " 'split3_test_score': array([0.68903109, 0.69805996, 0.70073824]),\n",
              " 'split4_test_score': array([0.68667301, 0.6944079 , 0.69497391]),\n",
              " 'std_fit_time': array([0.02089381, 0.35323058, 4.07487964]),\n",
              " 'std_score_time': array([0.00463467, 0.00284548, 0.00931793]),\n",
              " 'std_test_score': array([0.00408289, 0.0031442 , 0.00259261])}"
            ]
          },
          "metadata": {
            "tags": []
          },
          "execution_count": 16
        }
      ]
    },
    {
      "cell_type": "code",
      "metadata": {
        "id": "fKtNtVndY0DM"
      },
      "source": [
        "#видим что  при увеличении числа деревьев скор улучшается только в 3 знаке после\n",
        "#запятой, так что резона увеличить число n_estimators нету"
      ],
      "execution_count": 17,
      "outputs": []
    },
    {
      "cell_type": "markdown",
      "metadata": {
        "id": "bC4P2VIp7vXq"
      },
      "source": [
        "# Подход 2"
      ]
    },
    {
      "cell_type": "markdown",
      "metadata": {
        "id": "p8d-d-Bt9WM_"
      },
      "source": [
        "## №1 \n",
        "Оцените качество логистической регрессии (sklearn.linear_model.LogisticRegression с L2-регуляризацией) с помощью кросс-валидации по той же схеме, которая использовалась для градиентного бустинга. Подберите при этом лучший параметр регуляризации (C). Какое наилучшее качество у вас получилось? Как оно соотносится с качеством градиентного бустинга? Чем вы можете объяснить эту разницу? Быстрее ли работает логистическая регрессия по сравнению с градиентным бустингом?"
      ]
    },
    {
      "cell_type": "code",
      "metadata": {
        "id": "aoTaeXK66gLU"
      },
      "source": [
        "from sklearn.linear_model import LogisticRegression\n",
        "from sklearn.preprocessing import StandardScaler"
      ],
      "execution_count": 18,
      "outputs": []
    },
    {
      "cell_type": "code",
      "metadata": {
        "id": "6kKqzrOyCtNE"
      },
      "source": [
        "scaler = StandardScaler()\n",
        "X_train=scaler.fit_transform(features_train)\n",
        "X_test=scaler.fit_transform(features_test)"
      ],
      "execution_count": 19,
      "outputs": []
    },
    {
      "cell_type": "code",
      "metadata": {
        "id": "xNCovHxT74sC"
      },
      "source": [
        "clf_reg=LogisticRegression()\n",
        "param_reg={'penalty':['l2'],\n",
        "           'C':[1,0.5,0.1,0.05,0.01,0.005]}\n",
        "\n",
        "gs_reg=GridSearchCV(estimator=clf_reg,param_grid=param_reg,cv=kf,verbose=True,n_jobs=-1,scoring='roc_auc')"
      ],
      "execution_count": 20,
      "outputs": []
    },
    {
      "cell_type": "code",
      "metadata": {
        "id": "2sbdnUj_8TK9",
        "colab": {
          "base_uri": "https://localhost:8080/"
        },
        "outputId": "b38090b6-6a4b-4f82-c603-6f63b124f570"
      },
      "source": [
        "start_time = datetime.datetime.now()\n",
        " \n",
        "gs_reg.fit(X_train,y.radiant_win)\n",
        " \n",
        "print(f'Time elapsed:{datetime.datetime.now() - start_time}')\n"
      ],
      "execution_count": 21,
      "outputs": [
        {
          "output_type": "stream",
          "text": [
            "Fitting 5 folds for each of 6 candidates, totalling 30 fits\n"
          ],
          "name": "stdout"
        },
        {
          "output_type": "stream",
          "text": [
            "[Parallel(n_jobs=-1)]: Using backend LokyBackend with 2 concurrent workers.\n",
            "[Parallel(n_jobs=-1)]: Done  30 out of  30 | elapsed:   28.5s finished\n"
          ],
          "name": "stderr"
        },
        {
          "output_type": "stream",
          "text": [
            "Time elapsed:0:00:30.027159\n"
          ],
          "name": "stdout"
        }
      ]
    },
    {
      "cell_type": "code",
      "metadata": {
        "id": "h4VowoHk8uGT",
        "colab": {
          "base_uri": "https://localhost:8080/"
        },
        "outputId": "0d439e9a-caf8-4c96-bf9f-dff341b52b92"
      },
      "source": [
        "gs_reg.best_params_"
      ],
      "execution_count": 22,
      "outputs": [
        {
          "output_type": "execute_result",
          "data": {
            "text/plain": [
              "{'C': 0.005, 'penalty': 'l2'}"
            ]
          },
          "metadata": {
            "tags": []
          },
          "execution_count": 22
        }
      ]
    },
    {
      "cell_type": "code",
      "metadata": {
        "id": "clS052Xw8zlU",
        "colab": {
          "base_uri": "https://localhost:8080/"
        },
        "outputId": "f53defbf-3cda-4405-a7d9-e34668a31bb5"
      },
      "source": [
        "gs_reg.cv_results_['std_test_score']"
      ],
      "execution_count": 23,
      "outputs": [
        {
          "output_type": "execute_result",
          "data": {
            "text/plain": [
              "array([0.00123566, 0.00123512, 0.00123585, 0.00123649, 0.00123805,\n",
              "       0.0012379 ])"
            ]
          },
          "metadata": {
            "tags": []
          },
          "execution_count": 23
        }
      ]
    },
    {
      "cell_type": "code",
      "metadata": {
        "id": "Ac-0Yewe8vJO",
        "colab": {
          "base_uri": "https://localhost:8080/"
        },
        "outputId": "ff557826-96a6-425e-e6c1-197c83c00793"
      },
      "source": [
        "gs_reg.best_score_"
      ],
      "execution_count": 24,
      "outputs": [
        {
          "output_type": "execute_result",
          "data": {
            "text/plain": [
              "0.7165585432045204"
            ]
          },
          "metadata": {
            "tags": []
          },
          "execution_count": 24
        }
      ]
    },
    {
      "cell_type": "markdown",
      "metadata": {
        "id": "VTo9myuzpsKv"
      },
      "source": [
        "## №2\n",
        "Среди признаков в выборке есть категориальные, которые мы использовали как числовые, что вряд ли является хорошей идеей. Категориальных признаков в этой задаче одиннадцать: lobby_type и r1_hero, r2_hero, ..., r5_hero, d1_hero, d2_hero, ..., d5_hero. Уберите их из выборки, и проведите кросс-валидацию для логистической регрессии на новой выборке с подбором лучшего параметра регуляризации. Изменилось ли качество? Чем вы можете это объяснить?"
      ]
    },
    {
      "cell_type": "code",
      "metadata": {
        "id": "nsK-1Sr_NqDr"
      },
      "source": [
        "cols = ['lobby_type','r1_hero','r2_hero','r3_hero','r4_hero','r5_hero','d1_hero','d2_hero','d3_hero','d4_hero','d5_hero']\n"
      ],
      "execution_count": 25,
      "outputs": []
    },
    {
      "cell_type": "code",
      "metadata": {
        "id": "RXUnz-MraHLP",
        "colab": {
          "base_uri": "https://localhost:8080/"
        },
        "outputId": "14b86bc9-c6d9-4fb8-859b-70722932b671"
      },
      "source": [
        "indx=[features_train.columns.get_loc(indx) for indx in cols]\n",
        "indx"
      ],
      "execution_count": 26,
      "outputs": [
        {
          "output_type": "execute_result",
          "data": {
            "text/plain": [
              "[1, 2, 10, 18, 26, 34, 42, 50, 58, 66, 74]"
            ]
          },
          "metadata": {
            "tags": []
          },
          "execution_count": 26
        }
      ]
    },
    {
      "cell_type": "code",
      "metadata": {
        "colab": {
          "base_uri": "https://localhost:8080/"
        },
        "id": "jIoVkPERa-Tm",
        "outputId": "385cdd77-6d6d-4bf4-b2cb-3a9441b96664"
      },
      "source": [
        "gs_reg.best_estimator_.coef_[0][indx]\n",
        "#После удаления категориальных признаков качество не изменило. \n",
        "#Это могло произошло потому что веса при этих параметрах были близки к нулю."
      ],
      "execution_count": 27,
      "outputs": [
        {
          "output_type": "execute_result",
          "data": {
            "text/plain": [
              "array([-0.00525989,  0.00550341, -0.01963529,  0.00208191,  0.00242044,\n",
              "       -0.01117869,  0.00011369,  0.00268805, -0.00344395,  0.00647685,\n",
              "        0.0042156 ])"
            ]
          },
          "metadata": {
            "tags": []
          },
          "execution_count": 27
        }
      ]
    },
    {
      "cell_type": "code",
      "metadata": {
        "id": "fTurDbvVaAvy"
      },
      "source": [
        "features_train=features_train.drop(cols,axis=1)\n",
        "features_test=features_test.drop(cols,axis=1)\n"
      ],
      "execution_count": 28,
      "outputs": []
    },
    {
      "cell_type": "code",
      "metadata": {
        "id": "85oeniiUTYW5"
      },
      "source": [
        "X_train=scaler.fit_transform(features_train)\n",
        "X_test=scaler.fit_transform(features_test)"
      ],
      "execution_count": 29,
      "outputs": []
    },
    {
      "cell_type": "code",
      "metadata": {
        "colab": {
          "base_uri": "https://localhost:8080/"
        },
        "id": "5Tgu5AZxTn-P",
        "outputId": "0d39dc9b-8900-47b1-8ee7-97c8624a3c6d"
      },
      "source": [
        "start_time = datetime.datetime.now()\n",
        " \n",
        "gs_reg.fit(X_train,y.radiant_win)\n",
        " \n",
        "print(f'Time elapsed:{datetime.datetime.now() - start_time}')\n"
      ],
      "execution_count": 30,
      "outputs": [
        {
          "output_type": "stream",
          "text": [
            "Fitting 5 folds for each of 6 candidates, totalling 30 fits\n"
          ],
          "name": "stdout"
        },
        {
          "output_type": "stream",
          "text": [
            "[Parallel(n_jobs=-1)]: Using backend LokyBackend with 2 concurrent workers.\n",
            "[Parallel(n_jobs=-1)]: Done  30 out of  30 | elapsed:   26.6s finished\n"
          ],
          "name": "stderr"
        },
        {
          "output_type": "stream",
          "text": [
            "Time elapsed:0:00:28.313749\n"
          ],
          "name": "stdout"
        }
      ]
    },
    {
      "cell_type": "code",
      "metadata": {
        "colab": {
          "base_uri": "https://localhost:8080/"
        },
        "id": "my6bCTeaTrnj",
        "outputId": "48b9ea9e-195b-464d-93df-028832387d9e"
      },
      "source": [
        "gs_reg.best_params_"
      ],
      "execution_count": 31,
      "outputs": [
        {
          "output_type": "execute_result",
          "data": {
            "text/plain": [
              "{'C': 0.005, 'penalty': 'l2'}"
            ]
          },
          "metadata": {
            "tags": []
          },
          "execution_count": 31
        }
      ]
    },
    {
      "cell_type": "code",
      "metadata": {
        "colab": {
          "base_uri": "https://localhost:8080/"
        },
        "id": "8O4D4VCLTtCU",
        "outputId": "495e7785-a0a9-4273-961a-f6dc3acf9ca4"
      },
      "source": [
        "gs_reg.cv_results_['std_test_score']"
      ],
      "execution_count": 32,
      "outputs": [
        {
          "output_type": "execute_result",
          "data": {
            "text/plain": [
              "array([0.00132269, 0.00132322, 0.00132319, 0.00132373, 0.00132875,\n",
              "       0.00133124])"
            ]
          },
          "metadata": {
            "tags": []
          },
          "execution_count": 32
        }
      ]
    },
    {
      "cell_type": "code",
      "metadata": {
        "colab": {
          "base_uri": "https://localhost:8080/"
        },
        "id": "6TUTB32jTujw",
        "outputId": "913117d5-4e86-422a-8d42-c3238ebf7977"
      },
      "source": [
        "gs_reg.best_score_"
      ],
      "execution_count": 33,
      "outputs": [
        {
          "output_type": "execute_result",
          "data": {
            "text/plain": [
              "0.7165646342612926"
            ]
          },
          "metadata": {
            "tags": []
          },
          "execution_count": 33
        }
      ]
    },
    {
      "cell_type": "markdown",
      "metadata": {
        "id": "pO2YNRe1eIZP"
      },
      "source": [
        "## №3\n",
        "На предыдущем шаге мы исключили из выборки признаки rM_hero и dM_hero, которые показывают, какие именно герои играли за каждую команду. Это важные признаки — герои имеют разные характеристики, и некоторые из них выигрывают чаще, чем другие. Выясните из данных, сколько различных идентификаторов героев существует в данной игре (вам может пригодиться фукнция unique или value_counts)."
      ]
    },
    {
      "cell_type": "code",
      "metadata": {
        "id": "efKniir2eujl"
      },
      "source": [
        "heroes = pd.read_csv('/content/data/dictionaries/heroes.csv',index_col='id')"
      ],
      "execution_count": 34,
      "outputs": []
    },
    {
      "cell_type": "code",
      "metadata": {
        "colab": {
          "base_uri": "https://localhost:8080/"
        },
        "id": "aatIVOkae_RF",
        "outputId": "73369698-a114-467f-c0fd-e8fb7a31d86b"
      },
      "source": [
        "heroes.shape[0]"
      ],
      "execution_count": 35,
      "outputs": [
        {
          "output_type": "execute_result",
          "data": {
            "text/plain": [
              "112"
            ]
          },
          "metadata": {
            "tags": []
          },
          "execution_count": 35
        }
      ]
    },
    {
      "cell_type": "markdown",
      "metadata": {
        "id": "rRlkRxugdy3v"
      },
      "source": [
        "## №4\n",
        "Воспользуемся подходом \"мешок слов\" для кодирования информации о героях. Пусть всего в игре имеет N различных героев. Сформируем N признаков, при этом i-й будет равен нулю, если i-й герой не участвовал в матче; единице, если i-й герой играл за команду Radiant; минус единице, если i-й герой играл за команду Dire. Ниже вы можете найти код, который выполняет данной преобразование. Добавьте полученные признаки к числовым, которые вы использовали во втором пункте данного этапа."
      ]
    },
    {
      "cell_type": "code",
      "metadata": {
        "id": "EVX_2TWuQP8d"
      },
      "source": [
        "features_train = pd.read_csv('/content/features/features.csv', index_col='match_id').fillna(0)\n",
        "features_train.drop(['duration', 'tower_status_radiant', 'tower_status_dire', 'barracks_status_radiant', 'barracks_status_dire','radiant_win']\n",
        "           , axis=1, inplace=True)\n",
        "features_test=pd.read_csv('/content/features_test/features_test.csv',index_col='match_id').fillna(0)\n",
        "\n"
      ],
      "execution_count": 55,
      "outputs": []
    },
    {
      "cell_type": "code",
      "metadata": {
        "id": "OWXbq0qfd_1Z"
      },
      "source": [
        "X_pick = np.zeros((features_train.shape[0], heroes.shape[0]))\n",
        "for i, match_id in enumerate(features_train.index):\n",
        "    for p in range(5):\n",
        "        X_pick[i, features_train.loc[match_id, 'r%d_hero' % (p + 1)] - 1] = 1\n",
        "        X_pick[i, features_train.loc[match_id, 'd%d_hero' % (p + 1)] - 1] = -1"
      ],
      "execution_count": 56,
      "outputs": []
    },
    {
      "cell_type": "code",
      "metadata": {
        "id": "4V9GTo4gOCXg"
      },
      "source": [
        "X_hero = pd.DataFrame(X_pick, index=features_train.index)\n",
        "features_train = pd.concat([features_train, X_hero], axis=1)"
      ],
      "execution_count": 57,
      "outputs": []
    },
    {
      "cell_type": "code",
      "metadata": {
        "id": "2leT4PWGRTWJ"
      },
      "source": [
        "X_pick = np.zeros((features_test.shape[0], heroes.shape[0]))\n",
        "for i, match_id in enumerate(features_test.index):\n",
        "    for p in range(5):\n",
        "        X_pick[i, features_test.loc[match_id, 'r%d_hero' % (p + 1)] - 1] = 1\n",
        "        X_pick[i, features_test.loc[match_id, 'd%d_hero' % (p + 1)] - 1] = -1\n",
        "\n",
        "X_hero = pd.DataFrame(X_pick, index=features_test.index)\n",
        "features_test = pd.concat([features_test, X_hero], axis=1)"
      ],
      "execution_count": 58,
      "outputs": []
    },
    {
      "cell_type": "code",
      "metadata": {
        "id": "Wi2ieFqqR-w0"
      },
      "source": [
        "X_train=scaler.fit_transform(features_train)\n",
        "X_test=scaler.fit_transform(features_test)"
      ],
      "execution_count": 59,
      "outputs": []
    },
    {
      "cell_type": "markdown",
      "metadata": {
        "id": "M_Wf_Ie3R0kP"
      },
      "source": [
        "## №5 \n",
        "Проведите кросс-валидацию для логистической регрессии на новой выборке с подбором лучшего параметра регуляризации. Какое получилось качество? Улучшилось ли оно? Чем вы можете это объяснить?"
      ]
    },
    {
      "cell_type": "code",
      "metadata": {
        "colab": {
          "base_uri": "https://localhost:8080/"
        },
        "id": "1YZ2ey2dRrJw",
        "outputId": "e05a899d-ddac-41ff-a7e8-61ac79c7f520"
      },
      "source": [
        "start_time = datetime.datetime.now()\n",
        " \n",
        "gs_reg.fit(X_train,y.radiant_win)\n",
        " \n",
        "print(f'Time elapsed:{datetime.datetime.now() - start_time}')\n"
      ],
      "execution_count": 41,
      "outputs": [
        {
          "output_type": "stream",
          "text": [
            "Fitting 5 folds for each of 6 candidates, totalling 30 fits\n"
          ],
          "name": "stdout"
        },
        {
          "output_type": "stream",
          "text": [
            "[Parallel(n_jobs=-1)]: Using backend LokyBackend with 2 concurrent workers.\n",
            "[Parallel(n_jobs=-1)]: Done  30 out of  30 | elapsed:  1.0min finished\n"
          ],
          "name": "stderr"
        },
        {
          "output_type": "stream",
          "text": [
            "Time elapsed:0:01:04.834694\n"
          ],
          "name": "stdout"
        }
      ]
    },
    {
      "cell_type": "code",
      "metadata": {
        "colab": {
          "base_uri": "https://localhost:8080/"
        },
        "id": "b-vsJYllSL8W",
        "outputId": "df38cff8-c666-4497-99a9-faefd859ec90"
      },
      "source": [
        "gs_reg.best_params_"
      ],
      "execution_count": 42,
      "outputs": [
        {
          "output_type": "execute_result",
          "data": {
            "text/plain": [
              "{'C': 0.005, 'penalty': 'l2'}"
            ]
          },
          "metadata": {
            "tags": []
          },
          "execution_count": 42
        }
      ]
    },
    {
      "cell_type": "code",
      "metadata": {
        "colab": {
          "base_uri": "https://localhost:8080/"
        },
        "id": "3RBcT9xiSOyW",
        "outputId": "5c982f3d-0f82-4ac0-948b-ce7dfae81b32"
      },
      "source": [
        "gs_reg.best_score_\n",
        "#Добавление \"мешка слов\" улучшило качество предсказания. "
      ],
      "execution_count": 43,
      "outputs": [
        {
          "output_type": "execute_result",
          "data": {
            "text/plain": [
              "0.7519225640157142"
            ]
          },
          "metadata": {
            "tags": []
          },
          "execution_count": 43
        }
      ]
    },
    {
      "cell_type": "code",
      "metadata": {
        "id": "ASssA_WIU1Av"
      },
      "source": [
        "#Какое минимальное и максимальное значение прогноза на тестовой выборке получилось у лучшего из алгоритмов?\n",
        "y_pred = gs_reg.predict_proba(X_test)[:, 1]"
      ],
      "execution_count": 62,
      "outputs": []
    },
    {
      "cell_type": "code",
      "metadata": {
        "colab": {
          "base_uri": "https://localhost:8080/"
        },
        "id": "okcphuYYgPFs",
        "outputId": "5d1dd9ed-f0df-4e9d-f98e-54e8bf82e4bb"
      },
      "source": [
        "print(f'\\tминимальная - {round(y_pred.min(), 3)}')\n",
        "print(f'\\tмаксимальная - {round(y_pred.max(), 3)}')"
      ],
      "execution_count": 63,
      "outputs": [
        {
          "output_type": "stream",
          "text": [
            "\tминимальная - 0.009\n",
            "\tмаксимальная - 0.996\n"
          ],
          "name": "stdout"
        }
      ]
    }
  ]
}